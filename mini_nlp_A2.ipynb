{
  "cells": [
    {
      "cell_type": "markdown",
      "source": [
        "# 미니 의도분석기 실습"
      ],
      "metadata": {
        "id": "2thoqbic4Uxv"
      },
      "id": "2thoqbic4Uxv"
    },
    {
      "cell_type": "markdown",
      "source": [
        "## 학습목차"
      ],
      "metadata": {
        "id": "DvSwQRJu4zRE"
      },
      "id": "DvSwQRJu4zRE"
    },
    {
      "cell_type": "markdown",
      "source": [
        "0. 필요 라이브러리 임포트\n",
        " - python, konlpy, pandas, Komoran\n",
        "1. 사전 데이터 확인\n",
        " - 개체명 파일, 액션-개체명 파일, 액션-패턴 파일\n",
        "2. 발화 형태소 분석 (Komoran 형태소 분석기 사용)\n",
        " - 액션-패턴 파일 변경하여 저장\n",
        "3. 개체명 검색\n",
        " - 일치하는 개체명이 있을 시 치환 (ex. 에어컨 -> iot_device)\n",
        "4. 패턴 검색\n",
        " - 일치하는 패턴 발견 시 액션 반환, 발견하지 못하면 None 반환\n",
        "5. 새로운 액션, 패턴 추가"
      ],
      "metadata": {
        "id": "69TjZh1p5C3j"
      },
      "id": "69TjZh1p5C3j"
    },
    {
      "cell_type": "markdown",
      "source": [
        "# 0. 필요 라이브러리 임포트"
      ],
      "metadata": {
        "id": "oAAVbiXX6nMk"
      },
      "id": "oAAVbiXX6nMk"
    },
    {
      "cell_type": "markdown",
      "source": [
        "### python, konlpy"
      ],
      "metadata": {
        "id": "bTzIWQRt68ku"
      },
      "id": "bTzIWQRt68ku"
    },
    {
      "cell_type": "code",
      "source": [
        "%%bash\n",
        "apt-get update\n",
        "apt-get install g++ openjdk-8-jdk python-dev python3-dev\n",
        "pip3 install konlpy"
      ],
      "metadata": {
        "id": "EztmdWtI7EIU"
      },
      "id": "EztmdWtI7EIU",
      "execution_count": null,
      "outputs": []
    },
    {
      "cell_type": "markdown",
      "source": [
        "### pandas, Komoran"
      ],
      "metadata": {
        "id": "ccoODns26vac"
      },
      "id": "ccoODns26vac"
    },
    {
      "cell_type": "code",
      "source": [
        "import pandas as pd\n",
        "from konlpy.tag import Komoran"
      ],
      "metadata": {
        "id": "MS8J_db56uNa"
      },
      "id": "MS8J_db56uNa",
      "execution_count": 2,
      "outputs": []
    },
    {
      "cell_type": "markdown",
      "source": [
        "# 1. 사전 데이터 확인"
      ],
      "metadata": {
        "id": "_ySdejJb6HQL"
      },
      "id": "_ySdejJb6HQL"
    },
    {
      "cell_type": "markdown",
      "source": [
        "### <font color=green> 구글 드라이브 연동 </font>"
      ],
      "metadata": {
        "id": "9cjOpFMdC0_N"
      },
      "id": "9cjOpFMdC0_N"
    },
    {
      "cell_type": "code",
      "source": [
        "from google.colab import drive\n",
        "drive.mount('/content/drive')"
      ],
      "metadata": {
        "id": "1has_LWF33Ln",
        "colab": {
          "base_uri": "https://localhost:8080/"
        },
        "outputId": "e3a41546-3af2-4291-adca-8b5db66c386b"
      },
      "id": "1has_LWF33Ln",
      "execution_count": 73,
      "outputs": [
        {
          "output_type": "stream",
          "name": "stdout",
          "text": [
            "Drive already mounted at /content/drive; to attempt to forcibly remount, call drive.mount(\"/content/drive\", force_remount=True).\n"
          ]
        }
      ]
    },
    {
      "cell_type": "code",
      "source": [
        "%cd '/content/drive/My Drive/'\n",
        "!git clone 'https://github.com/kisa036/mini_nlp_test.git'"
      ],
      "metadata": {
        "id": "GvbWPqNB39tO",
        "colab": {
          "base_uri": "https://localhost:8080/"
        },
        "outputId": "5e534f68-811d-454c-da79-36c992fc5439"
      },
      "id": "GvbWPqNB39tO",
      "execution_count": 75,
      "outputs": [
        {
          "output_type": "stream",
          "name": "stdout",
          "text": [
            "/content/drive/My Drive\n",
            "Cloning into 'mini_nlp_test'...\n",
            "remote: Enumerating objects: 13, done.\u001b[K\n",
            "remote: Counting objects: 100% (13/13), done.\u001b[K\n",
            "remote: Compressing objects: 100% (13/13), done.\u001b[K\n",
            "remote: Total 13 (delta 5), reused 0 (delta 0), pack-reused 0\u001b[K\n",
            "Unpacking objects: 100% (13/13), 10.24 KiB | 62.00 KiB/s, done.\n"
          ]
        }
      ]
    },
    {
      "cell_type": "code",
      "source": [
        "%cd '/content/drive/My Drive/mini_nlp_test'\n",
        "%ls"
      ],
      "metadata": {
        "id": "ub56voq9EaHn",
        "colab": {
          "base_uri": "https://localhost:8080/"
        },
        "outputId": "f420fa56-6af4-4ea0-8fd8-9880e6d14602"
      },
      "id": "ub56voq9EaHn",
      "execution_count": 76,
      "outputs": [
        {
          "output_type": "stream",
          "name": "stdout",
          "text": [
            "/content/drive/My Drive/mini_nlp_test\n",
            "action_ne.csv       mini_nlp_A1.ipynb  mini_nlp_Q.ipynb\n",
            "action_pattern.csv  mini_nlp_A2.ipynb  ne_value.csv\n"
          ]
        }
      ]
    },
    {
      "cell_type": "markdown",
      "source": [
        "### <font color=green>개체명 파일 : ne_value.csv</font>"
      ],
      "metadata": {
        "id": "kSaZKdED7WXu"
      },
      "id": "kSaZKdED7WXu"
    },
    {
      "cell_type": "code",
      "source": [
        "ne_value = pd.read_csv('ne_value.csv', encoding='utf-8')"
      ],
      "metadata": {
        "id": "zgv6VEayCwXO"
      },
      "id": "zgv6VEayCwXO",
      "execution_count": 79,
      "outputs": []
    },
    {
      "cell_type": "code",
      "source": [
        "ne_value"
      ],
      "metadata": {
        "id": "UPV4WHNKD9eC",
        "colab": {
          "base_uri": "https://localhost:8080/",
          "height": 237
        },
        "outputId": "87c016e0-1e1d-423d-a34d-efd805875c4d"
      },
      "id": "UPV4WHNKD9eC",
      "execution_count": 80,
      "outputs": [
        {
          "output_type": "execute_result",
          "data": {
            "text/plain": [
              "               ne  value\n",
              "0      Iot_device    에어컨\n",
              "1      Iot_device  공기청정기\n",
              "2          dt_day     오늘\n",
              "3          dt_day     내일\n",
              "4  contents_title    런닝맨\n",
              "5  contents_title    아바타"
            ],
            "text/html": [
              "\n",
              "  <div id=\"df-d51b0f4b-5a8e-4461-824a-0c89b8624c93\">\n",
              "    <div class=\"colab-df-container\">\n",
              "      <div>\n",
              "<style scoped>\n",
              "    .dataframe tbody tr th:only-of-type {\n",
              "        vertical-align: middle;\n",
              "    }\n",
              "\n",
              "    .dataframe tbody tr th {\n",
              "        vertical-align: top;\n",
              "    }\n",
              "\n",
              "    .dataframe thead th {\n",
              "        text-align: right;\n",
              "    }\n",
              "</style>\n",
              "<table border=\"1\" class=\"dataframe\">\n",
              "  <thead>\n",
              "    <tr style=\"text-align: right;\">\n",
              "      <th></th>\n",
              "      <th>ne</th>\n",
              "      <th>value</th>\n",
              "    </tr>\n",
              "  </thead>\n",
              "  <tbody>\n",
              "    <tr>\n",
              "      <th>0</th>\n",
              "      <td>Iot_device</td>\n",
              "      <td>에어컨</td>\n",
              "    </tr>\n",
              "    <tr>\n",
              "      <th>1</th>\n",
              "      <td>Iot_device</td>\n",
              "      <td>공기청정기</td>\n",
              "    </tr>\n",
              "    <tr>\n",
              "      <th>2</th>\n",
              "      <td>dt_day</td>\n",
              "      <td>오늘</td>\n",
              "    </tr>\n",
              "    <tr>\n",
              "      <th>3</th>\n",
              "      <td>dt_day</td>\n",
              "      <td>내일</td>\n",
              "    </tr>\n",
              "    <tr>\n",
              "      <th>4</th>\n",
              "      <td>contents_title</td>\n",
              "      <td>런닝맨</td>\n",
              "    </tr>\n",
              "    <tr>\n",
              "      <th>5</th>\n",
              "      <td>contents_title</td>\n",
              "      <td>아바타</td>\n",
              "    </tr>\n",
              "  </tbody>\n",
              "</table>\n",
              "</div>\n",
              "      <button class=\"colab-df-convert\" onclick=\"convertToInteractive('df-d51b0f4b-5a8e-4461-824a-0c89b8624c93')\"\n",
              "              title=\"Convert this dataframe to an interactive table.\"\n",
              "              style=\"display:none;\">\n",
              "        \n",
              "  <svg xmlns=\"http://www.w3.org/2000/svg\" height=\"24px\"viewBox=\"0 0 24 24\"\n",
              "       width=\"24px\">\n",
              "    <path d=\"M0 0h24v24H0V0z\" fill=\"none\"/>\n",
              "    <path d=\"M18.56 5.44l.94 2.06.94-2.06 2.06-.94-2.06-.94-.94-2.06-.94 2.06-2.06.94zm-11 1L8.5 8.5l.94-2.06 2.06-.94-2.06-.94L8.5 2.5l-.94 2.06-2.06.94zm10 10l.94 2.06.94-2.06 2.06-.94-2.06-.94-.94-2.06-.94 2.06-2.06.94z\"/><path d=\"M17.41 7.96l-1.37-1.37c-.4-.4-.92-.59-1.43-.59-.52 0-1.04.2-1.43.59L10.3 9.45l-7.72 7.72c-.78.78-.78 2.05 0 2.83L4 21.41c.39.39.9.59 1.41.59.51 0 1.02-.2 1.41-.59l7.78-7.78 2.81-2.81c.8-.78.8-2.07 0-2.86zM5.41 20L4 18.59l7.72-7.72 1.47 1.35L5.41 20z\"/>\n",
              "  </svg>\n",
              "      </button>\n",
              "      \n",
              "  <style>\n",
              "    .colab-df-container {\n",
              "      display:flex;\n",
              "      flex-wrap:wrap;\n",
              "      gap: 12px;\n",
              "    }\n",
              "\n",
              "    .colab-df-convert {\n",
              "      background-color: #E8F0FE;\n",
              "      border: none;\n",
              "      border-radius: 50%;\n",
              "      cursor: pointer;\n",
              "      display: none;\n",
              "      fill: #1967D2;\n",
              "      height: 32px;\n",
              "      padding: 0 0 0 0;\n",
              "      width: 32px;\n",
              "    }\n",
              "\n",
              "    .colab-df-convert:hover {\n",
              "      background-color: #E2EBFA;\n",
              "      box-shadow: 0px 1px 2px rgba(60, 64, 67, 0.3), 0px 1px 3px 1px rgba(60, 64, 67, 0.15);\n",
              "      fill: #174EA6;\n",
              "    }\n",
              "\n",
              "    [theme=dark] .colab-df-convert {\n",
              "      background-color: #3B4455;\n",
              "      fill: #D2E3FC;\n",
              "    }\n",
              "\n",
              "    [theme=dark] .colab-df-convert:hover {\n",
              "      background-color: #434B5C;\n",
              "      box-shadow: 0px 1px 3px 1px rgba(0, 0, 0, 0.15);\n",
              "      filter: drop-shadow(0px 1px 2px rgba(0, 0, 0, 0.3));\n",
              "      fill: #FFFFFF;\n",
              "    }\n",
              "  </style>\n",
              "\n",
              "      <script>\n",
              "        const buttonEl =\n",
              "          document.querySelector('#df-d51b0f4b-5a8e-4461-824a-0c89b8624c93 button.colab-df-convert');\n",
              "        buttonEl.style.display =\n",
              "          google.colab.kernel.accessAllowed ? 'block' : 'none';\n",
              "\n",
              "        async function convertToInteractive(key) {\n",
              "          const element = document.querySelector('#df-d51b0f4b-5a8e-4461-824a-0c89b8624c93');\n",
              "          const dataTable =\n",
              "            await google.colab.kernel.invokeFunction('convertToInteractive',\n",
              "                                                     [key], {});\n",
              "          if (!dataTable) return;\n",
              "\n",
              "          const docLinkHtml = 'Like what you see? Visit the ' +\n",
              "            '<a target=\"_blank\" href=https://colab.research.google.com/notebooks/data_table.ipynb>data table notebook</a>'\n",
              "            + ' to learn more about interactive tables.';\n",
              "          element.innerHTML = '';\n",
              "          dataTable['output_type'] = 'display_data';\n",
              "          await google.colab.output.renderOutput(dataTable, element);\n",
              "          const docLink = document.createElement('div');\n",
              "          docLink.innerHTML = docLinkHtml;\n",
              "          element.appendChild(docLink);\n",
              "        }\n",
              "      </script>\n",
              "    </div>\n",
              "  </div>\n",
              "  "
            ]
          },
          "metadata": {},
          "execution_count": 80
        }
      ]
    },
    {
      "cell_type": "markdown",
      "source": [],
      "metadata": {
        "id": "1LKtsjrqFK5s"
      },
      "id": "1LKtsjrqFK5s"
    },
    {
      "cell_type": "markdown",
      "source": [
        "### <font color=green>액션-개체명 파일 : action_ne.csv</font>"
      ],
      "metadata": {
        "id": "XnYdeF4SEkiJ"
      },
      "id": "XnYdeF4SEkiJ"
    },
    {
      "cell_type": "code",
      "source": [
        "action_ne = pd.read_csv('action_ne.csv', encoding='utf-8')"
      ],
      "metadata": {
        "id": "3p_sGIbpFJfU"
      },
      "id": "3p_sGIbpFJfU",
      "execution_count": 81,
      "outputs": []
    },
    {
      "cell_type": "code",
      "source": [
        "action_ne"
      ],
      "metadata": {
        "id": "IAw5usiM4yG1",
        "colab": {
          "base_uri": "https://localhost:8080/",
          "height": 237
        },
        "outputId": "a9e32e3d-e42d-4df7-a7f7-bb39f09ee4f4"
      },
      "id": "IAw5usiM4yG1",
      "execution_count": 82,
      "outputs": [
        {
          "output_type": "execute_result",
          "data": {
            "text/plain": [
              "                 action              ne\n",
              "0             volume_up             NaN\n",
              "1           volume_down             NaN\n",
              "2   iot_device_power_on      iot_device\n",
              "3  iot_device_power_off      iot_device\n",
              "4        search_weather          dt_day\n",
              "5       search_contents  contents_title"
            ],
            "text/html": [
              "\n",
              "  <div id=\"df-1e6ee2e6-aadd-4eab-9f02-04aa33cce547\">\n",
              "    <div class=\"colab-df-container\">\n",
              "      <div>\n",
              "<style scoped>\n",
              "    .dataframe tbody tr th:only-of-type {\n",
              "        vertical-align: middle;\n",
              "    }\n",
              "\n",
              "    .dataframe tbody tr th {\n",
              "        vertical-align: top;\n",
              "    }\n",
              "\n",
              "    .dataframe thead th {\n",
              "        text-align: right;\n",
              "    }\n",
              "</style>\n",
              "<table border=\"1\" class=\"dataframe\">\n",
              "  <thead>\n",
              "    <tr style=\"text-align: right;\">\n",
              "      <th></th>\n",
              "      <th>action</th>\n",
              "      <th>ne</th>\n",
              "    </tr>\n",
              "  </thead>\n",
              "  <tbody>\n",
              "    <tr>\n",
              "      <th>0</th>\n",
              "      <td>volume_up</td>\n",
              "      <td>NaN</td>\n",
              "    </tr>\n",
              "    <tr>\n",
              "      <th>1</th>\n",
              "      <td>volume_down</td>\n",
              "      <td>NaN</td>\n",
              "    </tr>\n",
              "    <tr>\n",
              "      <th>2</th>\n",
              "      <td>iot_device_power_on</td>\n",
              "      <td>iot_device</td>\n",
              "    </tr>\n",
              "    <tr>\n",
              "      <th>3</th>\n",
              "      <td>iot_device_power_off</td>\n",
              "      <td>iot_device</td>\n",
              "    </tr>\n",
              "    <tr>\n",
              "      <th>4</th>\n",
              "      <td>search_weather</td>\n",
              "      <td>dt_day</td>\n",
              "    </tr>\n",
              "    <tr>\n",
              "      <th>5</th>\n",
              "      <td>search_contents</td>\n",
              "      <td>contents_title</td>\n",
              "    </tr>\n",
              "  </tbody>\n",
              "</table>\n",
              "</div>\n",
              "      <button class=\"colab-df-convert\" onclick=\"convertToInteractive('df-1e6ee2e6-aadd-4eab-9f02-04aa33cce547')\"\n",
              "              title=\"Convert this dataframe to an interactive table.\"\n",
              "              style=\"display:none;\">\n",
              "        \n",
              "  <svg xmlns=\"http://www.w3.org/2000/svg\" height=\"24px\"viewBox=\"0 0 24 24\"\n",
              "       width=\"24px\">\n",
              "    <path d=\"M0 0h24v24H0V0z\" fill=\"none\"/>\n",
              "    <path d=\"M18.56 5.44l.94 2.06.94-2.06 2.06-.94-2.06-.94-.94-2.06-.94 2.06-2.06.94zm-11 1L8.5 8.5l.94-2.06 2.06-.94-2.06-.94L8.5 2.5l-.94 2.06-2.06.94zm10 10l.94 2.06.94-2.06 2.06-.94-2.06-.94-.94-2.06-.94 2.06-2.06.94z\"/><path d=\"M17.41 7.96l-1.37-1.37c-.4-.4-.92-.59-1.43-.59-.52 0-1.04.2-1.43.59L10.3 9.45l-7.72 7.72c-.78.78-.78 2.05 0 2.83L4 21.41c.39.39.9.59 1.41.59.51 0 1.02-.2 1.41-.59l7.78-7.78 2.81-2.81c.8-.78.8-2.07 0-2.86zM5.41 20L4 18.59l7.72-7.72 1.47 1.35L5.41 20z\"/>\n",
              "  </svg>\n",
              "      </button>\n",
              "      \n",
              "  <style>\n",
              "    .colab-df-container {\n",
              "      display:flex;\n",
              "      flex-wrap:wrap;\n",
              "      gap: 12px;\n",
              "    }\n",
              "\n",
              "    .colab-df-convert {\n",
              "      background-color: #E8F0FE;\n",
              "      border: none;\n",
              "      border-radius: 50%;\n",
              "      cursor: pointer;\n",
              "      display: none;\n",
              "      fill: #1967D2;\n",
              "      height: 32px;\n",
              "      padding: 0 0 0 0;\n",
              "      width: 32px;\n",
              "    }\n",
              "\n",
              "    .colab-df-convert:hover {\n",
              "      background-color: #E2EBFA;\n",
              "      box-shadow: 0px 1px 2px rgba(60, 64, 67, 0.3), 0px 1px 3px 1px rgba(60, 64, 67, 0.15);\n",
              "      fill: #174EA6;\n",
              "    }\n",
              "\n",
              "    [theme=dark] .colab-df-convert {\n",
              "      background-color: #3B4455;\n",
              "      fill: #D2E3FC;\n",
              "    }\n",
              "\n",
              "    [theme=dark] .colab-df-convert:hover {\n",
              "      background-color: #434B5C;\n",
              "      box-shadow: 0px 1px 3px 1px rgba(0, 0, 0, 0.15);\n",
              "      filter: drop-shadow(0px 1px 2px rgba(0, 0, 0, 0.3));\n",
              "      fill: #FFFFFF;\n",
              "    }\n",
              "  </style>\n",
              "\n",
              "      <script>\n",
              "        const buttonEl =\n",
              "          document.querySelector('#df-1e6ee2e6-aadd-4eab-9f02-04aa33cce547 button.colab-df-convert');\n",
              "        buttonEl.style.display =\n",
              "          google.colab.kernel.accessAllowed ? 'block' : 'none';\n",
              "\n",
              "        async function convertToInteractive(key) {\n",
              "          const element = document.querySelector('#df-1e6ee2e6-aadd-4eab-9f02-04aa33cce547');\n",
              "          const dataTable =\n",
              "            await google.colab.kernel.invokeFunction('convertToInteractive',\n",
              "                                                     [key], {});\n",
              "          if (!dataTable) return;\n",
              "\n",
              "          const docLinkHtml = 'Like what you see? Visit the ' +\n",
              "            '<a target=\"_blank\" href=https://colab.research.google.com/notebooks/data_table.ipynb>data table notebook</a>'\n",
              "            + ' to learn more about interactive tables.';\n",
              "          element.innerHTML = '';\n",
              "          dataTable['output_type'] = 'display_data';\n",
              "          await google.colab.output.renderOutput(dataTable, element);\n",
              "          const docLink = document.createElement('div');\n",
              "          docLink.innerHTML = docLinkHtml;\n",
              "          element.appendChild(docLink);\n",
              "        }\n",
              "      </script>\n",
              "    </div>\n",
              "  </div>\n",
              "  "
            ]
          },
          "metadata": {},
          "execution_count": 82
        }
      ]
    },
    {
      "cell_type": "markdown",
      "source": [
        "### <font color=green> 액션-패턴 파일 : action_pattern.csv </font>"
      ],
      "metadata": {
        "id": "leBeUkFSE3eL"
      },
      "id": "leBeUkFSE3eL"
    },
    {
      "cell_type": "code",
      "source": [
        "action_pattern = pd.read_csv('action_pattern.csv', encoding='utf-8')"
      ],
      "metadata": {
        "id": "u9Spr8krEiN6"
      },
      "id": "u9Spr8krEiN6",
      "execution_count": 83,
      "outputs": []
    },
    {
      "cell_type": "code",
      "source": [
        "action_pattern"
      ],
      "metadata": {
        "id": "nhbzXBJI47l8",
        "colab": {
          "base_uri": "https://localhost:8080/",
          "height": 237
        },
        "outputId": "53fd9e09-89fb-4ca4-d0c0-33dd3df83eb2"
      },
      "id": "nhbzXBJI47l8",
      "execution_count": 84,
      "outputs": [
        {
          "output_type": "execute_result",
          "data": {
            "text/plain": [
              "                 action              pattern\n",
              "0             volume_up                볼륨 올려\n",
              "1           volume_down                볼륨 내려\n",
              "2   iot_device_power_on        iot_device 켜줘\n",
              "3  iot_device_power_off        iot_device 꺼줘\n",
              "4        search_weather        dt_day 날씨 알려줘\n",
              "5       search_contents  contents_title 검색해줘"
            ],
            "text/html": [
              "\n",
              "  <div id=\"df-b09c5d10-5587-4e14-90fe-991daf13189f\">\n",
              "    <div class=\"colab-df-container\">\n",
              "      <div>\n",
              "<style scoped>\n",
              "    .dataframe tbody tr th:only-of-type {\n",
              "        vertical-align: middle;\n",
              "    }\n",
              "\n",
              "    .dataframe tbody tr th {\n",
              "        vertical-align: top;\n",
              "    }\n",
              "\n",
              "    .dataframe thead th {\n",
              "        text-align: right;\n",
              "    }\n",
              "</style>\n",
              "<table border=\"1\" class=\"dataframe\">\n",
              "  <thead>\n",
              "    <tr style=\"text-align: right;\">\n",
              "      <th></th>\n",
              "      <th>action</th>\n",
              "      <th>pattern</th>\n",
              "    </tr>\n",
              "  </thead>\n",
              "  <tbody>\n",
              "    <tr>\n",
              "      <th>0</th>\n",
              "      <td>volume_up</td>\n",
              "      <td>볼륨 올려</td>\n",
              "    </tr>\n",
              "    <tr>\n",
              "      <th>1</th>\n",
              "      <td>volume_down</td>\n",
              "      <td>볼륨 내려</td>\n",
              "    </tr>\n",
              "    <tr>\n",
              "      <th>2</th>\n",
              "      <td>iot_device_power_on</td>\n",
              "      <td>iot_device 켜줘</td>\n",
              "    </tr>\n",
              "    <tr>\n",
              "      <th>3</th>\n",
              "      <td>iot_device_power_off</td>\n",
              "      <td>iot_device 꺼줘</td>\n",
              "    </tr>\n",
              "    <tr>\n",
              "      <th>4</th>\n",
              "      <td>search_weather</td>\n",
              "      <td>dt_day 날씨 알려줘</td>\n",
              "    </tr>\n",
              "    <tr>\n",
              "      <th>5</th>\n",
              "      <td>search_contents</td>\n",
              "      <td>contents_title 검색해줘</td>\n",
              "    </tr>\n",
              "  </tbody>\n",
              "</table>\n",
              "</div>\n",
              "      <button class=\"colab-df-convert\" onclick=\"convertToInteractive('df-b09c5d10-5587-4e14-90fe-991daf13189f')\"\n",
              "              title=\"Convert this dataframe to an interactive table.\"\n",
              "              style=\"display:none;\">\n",
              "        \n",
              "  <svg xmlns=\"http://www.w3.org/2000/svg\" height=\"24px\"viewBox=\"0 0 24 24\"\n",
              "       width=\"24px\">\n",
              "    <path d=\"M0 0h24v24H0V0z\" fill=\"none\"/>\n",
              "    <path d=\"M18.56 5.44l.94 2.06.94-2.06 2.06-.94-2.06-.94-.94-2.06-.94 2.06-2.06.94zm-11 1L8.5 8.5l.94-2.06 2.06-.94-2.06-.94L8.5 2.5l-.94 2.06-2.06.94zm10 10l.94 2.06.94-2.06 2.06-.94-2.06-.94-.94-2.06-.94 2.06-2.06.94z\"/><path d=\"M17.41 7.96l-1.37-1.37c-.4-.4-.92-.59-1.43-.59-.52 0-1.04.2-1.43.59L10.3 9.45l-7.72 7.72c-.78.78-.78 2.05 0 2.83L4 21.41c.39.39.9.59 1.41.59.51 0 1.02-.2 1.41-.59l7.78-7.78 2.81-2.81c.8-.78.8-2.07 0-2.86zM5.41 20L4 18.59l7.72-7.72 1.47 1.35L5.41 20z\"/>\n",
              "  </svg>\n",
              "      </button>\n",
              "      \n",
              "  <style>\n",
              "    .colab-df-container {\n",
              "      display:flex;\n",
              "      flex-wrap:wrap;\n",
              "      gap: 12px;\n",
              "    }\n",
              "\n",
              "    .colab-df-convert {\n",
              "      background-color: #E8F0FE;\n",
              "      border: none;\n",
              "      border-radius: 50%;\n",
              "      cursor: pointer;\n",
              "      display: none;\n",
              "      fill: #1967D2;\n",
              "      height: 32px;\n",
              "      padding: 0 0 0 0;\n",
              "      width: 32px;\n",
              "    }\n",
              "\n",
              "    .colab-df-convert:hover {\n",
              "      background-color: #E2EBFA;\n",
              "      box-shadow: 0px 1px 2px rgba(60, 64, 67, 0.3), 0px 1px 3px 1px rgba(60, 64, 67, 0.15);\n",
              "      fill: #174EA6;\n",
              "    }\n",
              "\n",
              "    [theme=dark] .colab-df-convert {\n",
              "      background-color: #3B4455;\n",
              "      fill: #D2E3FC;\n",
              "    }\n",
              "\n",
              "    [theme=dark] .colab-df-convert:hover {\n",
              "      background-color: #434B5C;\n",
              "      box-shadow: 0px 1px 3px 1px rgba(0, 0, 0, 0.15);\n",
              "      filter: drop-shadow(0px 1px 2px rgba(0, 0, 0, 0.3));\n",
              "      fill: #FFFFFF;\n",
              "    }\n",
              "  </style>\n",
              "\n",
              "      <script>\n",
              "        const buttonEl =\n",
              "          document.querySelector('#df-b09c5d10-5587-4e14-90fe-991daf13189f button.colab-df-convert');\n",
              "        buttonEl.style.display =\n",
              "          google.colab.kernel.accessAllowed ? 'block' : 'none';\n",
              "\n",
              "        async function convertToInteractive(key) {\n",
              "          const element = document.querySelector('#df-b09c5d10-5587-4e14-90fe-991daf13189f');\n",
              "          const dataTable =\n",
              "            await google.colab.kernel.invokeFunction('convertToInteractive',\n",
              "                                                     [key], {});\n",
              "          if (!dataTable) return;\n",
              "\n",
              "          const docLinkHtml = 'Like what you see? Visit the ' +\n",
              "            '<a target=\"_blank\" href=https://colab.research.google.com/notebooks/data_table.ipynb>data table notebook</a>'\n",
              "            + ' to learn more about interactive tables.';\n",
              "          element.innerHTML = '';\n",
              "          dataTable['output_type'] = 'display_data';\n",
              "          await google.colab.output.renderOutput(dataTable, element);\n",
              "          const docLink = document.createElement('div');\n",
              "          docLink.innerHTML = docLinkHtml;\n",
              "          element.appendChild(docLink);\n",
              "        }\n",
              "      </script>\n",
              "    </div>\n",
              "  </div>\n",
              "  "
            ]
          },
          "metadata": {},
          "execution_count": 84
        }
      ]
    },
    {
      "cell_type": "markdown",
      "source": [
        "# 2. 발화 형태소 분석"
      ],
      "metadata": {
        "id": "D6CgTW4EFRq4"
      },
      "id": "D6CgTW4EFRq4"
    },
    {
      "cell_type": "markdown",
      "source": [
        "### <font color=green>Komoran tag 종류 확인</font>"
      ],
      "metadata": {
        "id": "nZBh7Vna5ztL"
      },
      "id": "nZBh7Vna5ztL"
    },
    {
      "cell_type": "code",
      "source": [
        "komoran = Komoran()\n",
        "komoran.tagset"
      ],
      "metadata": {
        "id": "qoTKMSKcEiZg",
        "colab": {
          "base_uri": "https://localhost:8080/"
        },
        "outputId": "55f6b2f9-e0ff-4559-d867-8b71a1b0b0a9"
      },
      "id": "qoTKMSKcEiZg",
      "execution_count": 85,
      "outputs": [
        {
          "output_type": "execute_result",
          "data": {
            "text/plain": [
              "{'EC': '연결 어미',\n",
              " 'EF': '종결 어미',\n",
              " 'EP': '선어말어미',\n",
              " 'ETM': '관형형 전성 어미',\n",
              " 'ETN': '명사형 전성 어미',\n",
              " 'IC': '감탄사',\n",
              " 'JC': '접속 조사',\n",
              " 'JKB': '부사격 조사',\n",
              " 'JKC': '보격 조사',\n",
              " 'JKG': '관형격 조사',\n",
              " 'JKO': '목적격 조사',\n",
              " 'JKQ': '인용격 조사',\n",
              " 'JKS': '주격 조사',\n",
              " 'JKV': '호격 조사',\n",
              " 'JX': '보조사',\n",
              " 'MAG': '일반 부사',\n",
              " 'MAJ': '접속 부사',\n",
              " 'MM': '관형사',\n",
              " 'NA': '분석불능범주',\n",
              " 'NF': '명사추정범주',\n",
              " 'NNB': '의존 명사',\n",
              " 'NNG': '일반 명사',\n",
              " 'NNP': '고유 명사',\n",
              " 'NP': '대명사',\n",
              " 'NR': '수사',\n",
              " 'NV': '용언추정범주',\n",
              " 'SE': '줄임표',\n",
              " 'SF': '마침표, 물음표, 느낌표',\n",
              " 'SH': '한자',\n",
              " 'SL': '외국어',\n",
              " 'SN': '숫자',\n",
              " 'SO': '붙임표(물결,숨김,빠짐)',\n",
              " 'SP': '쉼표,가운뎃점,콜론,빗금',\n",
              " 'SS': '따옴표,괄호표,줄표',\n",
              " 'SW': '기타기호 (논리수학기호,화폐기호)',\n",
              " 'VA': '형용사',\n",
              " 'VCN': '부정 지정사',\n",
              " 'VCP': '긍정 지정사',\n",
              " 'VV': '동사',\n",
              " 'VX': '보조 용언',\n",
              " 'XPN': '체언 접두사',\n",
              " 'XR': '어근',\n",
              " 'XSA': '형용사 파생 접미사',\n",
              " 'XSN': '명사파생 접미사',\n",
              " 'XSV': '동사 파생 접미사'}"
            ]
          },
          "metadata": {},
          "execution_count": 85
        }
      ]
    },
    {
      "cell_type": "markdown",
      "source": [
        "### <font color=green> Komoran 사용 예시</font>"
      ],
      "metadata": {
        "id": "8FaNqjIt5vIt"
      },
      "id": "8FaNqjIt5vIt"
    },
    {
      "cell_type": "code",
      "source": [
        "komoran.pos('KOMORAN은 한국어 형태소 분석기입니다')"
      ],
      "metadata": {
        "id": "_-adJ0iUFXy_",
        "colab": {
          "base_uri": "https://localhost:8080/"
        },
        "outputId": "f1b3445a-4167-4000-8f9b-458b47ebda52"
      },
      "id": "_-adJ0iUFXy_",
      "execution_count": 86,
      "outputs": [
        {
          "output_type": "execute_result",
          "data": {
            "text/plain": [
              "[('KOMORAN', 'SL'),\n",
              " ('은', 'JX'),\n",
              " ('한국어', 'NNP'),\n",
              " ('형태소', 'NNP'),\n",
              " ('분석기', 'NNG'),\n",
              " ('이', 'VCP'),\n",
              " ('ㅂ니다', 'EC')]"
            ]
          },
          "metadata": {},
          "execution_count": 86
        }
      ]
    },
    {
      "cell_type": "code",
      "source": [
        "komoran.pos('오늘 날씨 알려줘')"
      ],
      "metadata": {
        "colab": {
          "base_uri": "https://localhost:8080/"
        },
        "id": "fHvBJRXhrPOJ",
        "outputId": "7077f84c-79a9-4437-90e9-f90f3139a2aa"
      },
      "id": "fHvBJRXhrPOJ",
      "execution_count": 87,
      "outputs": [
        {
          "output_type": "execute_result",
          "data": {
            "text/plain": [
              "[('오늘', 'NNG'),\n",
              " ('날씨', 'NNP'),\n",
              " ('알리', 'VV'),\n",
              " ('어', 'EC'),\n",
              " ('주', 'VX'),\n",
              " ('어', 'EC')]"
            ]
          },
          "metadata": {},
          "execution_count": 87
        }
      ]
    },
    {
      "cell_type": "markdown",
      "source": [
        "### <font color=green> 액션-패턴 파일 변경하여 저장</font>"
      ],
      "metadata": {
        "id": "6yIks5Si79Zt"
      },
      "id": "6yIks5Si79Zt"
    },
    {
      "cell_type": "markdown",
      "source": [
        "##### <font color=blue> **[문제 1] 액션-패턴 파일의 내용을 komoran pos 함수를 이용하여 형태소 분석된 내용으로 'pattern' 컬럼에 저장하세요.** </font>"
      ],
      "metadata": {
        "id": "U98b8pUhCPDN"
      },
      "id": "U98b8pUhCPDN"
    },
    {
      "cell_type": "code",
      "source": [
        "# 읽어 들일 파일명 : action_pattern.csv\n",
        "# 액션-패턴 정보(action_pattern) 중 'pattern' 내용에 대해 형태소 분석 내용 반영\n",
        "# 결과 : 'action_pattern_komoran.csv' 파일로 저장\n",
        "\n",
        "# 변경 내용 (volume_up 등의 action은 본형태 유지)\n",
        "## volume_up  볼륨 올려 -> volume_up  볼륨 올리\n",
        "## search_weather\tdt_day 날씨 알려줘 -> search_weather\tdt_day 날씨 알리\n",
        "\n",
        "action_pattern = pd.read_csv('action_pattern.csv', encoding='utf-8')\n",
        "action_pattern_komoran = action_pattern\n",
        "\n",
        "def create_pos_pattern(text):\n",
        "  text = komoran.pos(text)\n",
        "  words = []\n",
        "  patterns = []\n",
        "  \n",
        "  for word in text:\n",
        "    if(word[1] in ['SL', 'SW']): # dt_day 등의 NE 명칭은 형태 유지\n",
        "      words.append(word[0])\n",
        "    elif(word[1] not in ['EC','EF','EP''ETM''ETN','VX']): # TODO : komoran pos 함수 활용 - '어미','보조 용언' 제거\n",
        "      words.append(' ' + word[0])\n",
        "\n",
        "  pattern = ''.join(words).strip()\n",
        "  return pattern\n",
        "\n",
        "action_pattern_komoran['pattern'] = action_pattern_komoran['pattern'].apply(lambda x: create_pos_pattern(x))\n",
        "action_pattern_komoran.to_csv('action_pattern_komoran.csv', index=False)"
      ],
      "metadata": {
        "id": "CL0CXMzU9D3q"
      },
      "id": "CL0CXMzU9D3q",
      "execution_count": 88,
      "outputs": []
    },
    {
      "cell_type": "code",
      "source": [
        "action_pattern_komoran = pd.read_csv('action_pattern_komoran.csv', encoding='utf-8')\n",
        "action_pattern_komoran\n",
        "\n",
        "## 기대 결과\n",
        "# action\tpattern\n",
        "# 0\ttv_volume_up\t볼륨 올리\n",
        "# 1\ttv_volume_down\t볼륨 내리\n",
        "# 2\tsh_device_power_on\tiot_device 켜"
      ],
      "metadata": {
        "colab": {
          "base_uri": "https://localhost:8080/",
          "height": 237
        },
        "id": "d7ftKQF4JcoC",
        "outputId": "5b98ac55-2f79-400c-8973-c6913f2022c3"
      },
      "id": "d7ftKQF4JcoC",
      "execution_count": 89,
      "outputs": [
        {
          "output_type": "execute_result",
          "data": {
            "text/plain": [
              "                 action              pattern\n",
              "0             volume_up                볼륨 올리\n",
              "1           volume_down                볼륨 내리\n",
              "2   iot_device_power_on         iot_device 켜\n",
              "3  iot_device_power_off         iot_device 끄\n",
              "4        search_weather         dt_day 날씨 알리\n",
              "5       search_contents  contents_title 검색 하"
            ],
            "text/html": [
              "\n",
              "  <div id=\"df-048f69b2-150c-41ee-b92d-248d63487c12\">\n",
              "    <div class=\"colab-df-container\">\n",
              "      <div>\n",
              "<style scoped>\n",
              "    .dataframe tbody tr th:only-of-type {\n",
              "        vertical-align: middle;\n",
              "    }\n",
              "\n",
              "    .dataframe tbody tr th {\n",
              "        vertical-align: top;\n",
              "    }\n",
              "\n",
              "    .dataframe thead th {\n",
              "        text-align: right;\n",
              "    }\n",
              "</style>\n",
              "<table border=\"1\" class=\"dataframe\">\n",
              "  <thead>\n",
              "    <tr style=\"text-align: right;\">\n",
              "      <th></th>\n",
              "      <th>action</th>\n",
              "      <th>pattern</th>\n",
              "    </tr>\n",
              "  </thead>\n",
              "  <tbody>\n",
              "    <tr>\n",
              "      <th>0</th>\n",
              "      <td>volume_up</td>\n",
              "      <td>볼륨 올리</td>\n",
              "    </tr>\n",
              "    <tr>\n",
              "      <th>1</th>\n",
              "      <td>volume_down</td>\n",
              "      <td>볼륨 내리</td>\n",
              "    </tr>\n",
              "    <tr>\n",
              "      <th>2</th>\n",
              "      <td>iot_device_power_on</td>\n",
              "      <td>iot_device 켜</td>\n",
              "    </tr>\n",
              "    <tr>\n",
              "      <th>3</th>\n",
              "      <td>iot_device_power_off</td>\n",
              "      <td>iot_device 끄</td>\n",
              "    </tr>\n",
              "    <tr>\n",
              "      <th>4</th>\n",
              "      <td>search_weather</td>\n",
              "      <td>dt_day 날씨 알리</td>\n",
              "    </tr>\n",
              "    <tr>\n",
              "      <th>5</th>\n",
              "      <td>search_contents</td>\n",
              "      <td>contents_title 검색 하</td>\n",
              "    </tr>\n",
              "  </tbody>\n",
              "</table>\n",
              "</div>\n",
              "      <button class=\"colab-df-convert\" onclick=\"convertToInteractive('df-048f69b2-150c-41ee-b92d-248d63487c12')\"\n",
              "              title=\"Convert this dataframe to an interactive table.\"\n",
              "              style=\"display:none;\">\n",
              "        \n",
              "  <svg xmlns=\"http://www.w3.org/2000/svg\" height=\"24px\"viewBox=\"0 0 24 24\"\n",
              "       width=\"24px\">\n",
              "    <path d=\"M0 0h24v24H0V0z\" fill=\"none\"/>\n",
              "    <path d=\"M18.56 5.44l.94 2.06.94-2.06 2.06-.94-2.06-.94-.94-2.06-.94 2.06-2.06.94zm-11 1L8.5 8.5l.94-2.06 2.06-.94-2.06-.94L8.5 2.5l-.94 2.06-2.06.94zm10 10l.94 2.06.94-2.06 2.06-.94-2.06-.94-.94-2.06-.94 2.06-2.06.94z\"/><path d=\"M17.41 7.96l-1.37-1.37c-.4-.4-.92-.59-1.43-.59-.52 0-1.04.2-1.43.59L10.3 9.45l-7.72 7.72c-.78.78-.78 2.05 0 2.83L4 21.41c.39.39.9.59 1.41.59.51 0 1.02-.2 1.41-.59l7.78-7.78 2.81-2.81c.8-.78.8-2.07 0-2.86zM5.41 20L4 18.59l7.72-7.72 1.47 1.35L5.41 20z\"/>\n",
              "  </svg>\n",
              "      </button>\n",
              "      \n",
              "  <style>\n",
              "    .colab-df-container {\n",
              "      display:flex;\n",
              "      flex-wrap:wrap;\n",
              "      gap: 12px;\n",
              "    }\n",
              "\n",
              "    .colab-df-convert {\n",
              "      background-color: #E8F0FE;\n",
              "      border: none;\n",
              "      border-radius: 50%;\n",
              "      cursor: pointer;\n",
              "      display: none;\n",
              "      fill: #1967D2;\n",
              "      height: 32px;\n",
              "      padding: 0 0 0 0;\n",
              "      width: 32px;\n",
              "    }\n",
              "\n",
              "    .colab-df-convert:hover {\n",
              "      background-color: #E2EBFA;\n",
              "      box-shadow: 0px 1px 2px rgba(60, 64, 67, 0.3), 0px 1px 3px 1px rgba(60, 64, 67, 0.15);\n",
              "      fill: #174EA6;\n",
              "    }\n",
              "\n",
              "    [theme=dark] .colab-df-convert {\n",
              "      background-color: #3B4455;\n",
              "      fill: #D2E3FC;\n",
              "    }\n",
              "\n",
              "    [theme=dark] .colab-df-convert:hover {\n",
              "      background-color: #434B5C;\n",
              "      box-shadow: 0px 1px 3px 1px rgba(0, 0, 0, 0.15);\n",
              "      filter: drop-shadow(0px 1px 2px rgba(0, 0, 0, 0.3));\n",
              "      fill: #FFFFFF;\n",
              "    }\n",
              "  </style>\n",
              "\n",
              "      <script>\n",
              "        const buttonEl =\n",
              "          document.querySelector('#df-048f69b2-150c-41ee-b92d-248d63487c12 button.colab-df-convert');\n",
              "        buttonEl.style.display =\n",
              "          google.colab.kernel.accessAllowed ? 'block' : 'none';\n",
              "\n",
              "        async function convertToInteractive(key) {\n",
              "          const element = document.querySelector('#df-048f69b2-150c-41ee-b92d-248d63487c12');\n",
              "          const dataTable =\n",
              "            await google.colab.kernel.invokeFunction('convertToInteractive',\n",
              "                                                     [key], {});\n",
              "          if (!dataTable) return;\n",
              "\n",
              "          const docLinkHtml = 'Like what you see? Visit the ' +\n",
              "            '<a target=\"_blank\" href=https://colab.research.google.com/notebooks/data_table.ipynb>data table notebook</a>'\n",
              "            + ' to learn more about interactive tables.';\n",
              "          element.innerHTML = '';\n",
              "          dataTable['output_type'] = 'display_data';\n",
              "          await google.colab.output.renderOutput(dataTable, element);\n",
              "          const docLink = document.createElement('div');\n",
              "          docLink.innerHTML = docLinkHtml;\n",
              "          element.appendChild(docLink);\n",
              "        }\n",
              "      </script>\n",
              "    </div>\n",
              "  </div>\n",
              "  "
            ]
          },
          "metadata": {},
          "execution_count": 89
        }
      ]
    },
    {
      "cell_type": "markdown",
      "source": [
        "# 3. 개체명 검색\n"
      ],
      "metadata": {
        "id": "rXGEXc_SKcnh"
      },
      "id": "rXGEXc_SKcnh"
    },
    {
      "cell_type": "markdown",
      "source": [
        "##### <font color=blue> **[문제 2] 분석된 형태소 중 명사에 한하여 개체명을 검색하여 치환하세요.** </font>"
      ],
      "metadata": {
        "id": "SHAgEMd1K4IR"
      },
      "id": "SHAgEMd1K4IR"
    },
    {
      "cell_type": "code",
      "source": [
        "# 읽어 들일 파일명 : ne_value.csv\n",
        "# 함수명 : replace_ne()\n",
        "# 개체명이 치환된 패턴을 반환\n",
        "\n",
        "ne_value = pd.read_csv('ne_value.csv', encoding='utf-8')\n",
        "\n",
        "def replace_ne(text):\n",
        "  pos = komoran.pos(text)\n",
        "\n",
        "  for word in pos:\n",
        "    if(word[1] in ['NNB','NNG','NNP','NP']): # TODO : komoran pos 함수 활용, '명사'에 한하여 개체명을 검색한 후 개체명 이름(ne)로 치환\n",
        "      for row in ne_value.itertuples():\n",
        "          if(word[0] == row.value):\n",
        "            text = text.replace(row.value, row.ne)\n",
        "  return text\n",
        "\n",
        "text = replace_ne('내일 날씨 알려줘')\n",
        "text\n",
        "\n",
        "## 기대 결과\n",
        "# 'dt_day 날씨 알려줘'"
      ],
      "metadata": {
        "colab": {
          "base_uri": "https://localhost:8080/",
          "height": 36
        },
        "id": "pUhM_z4sPkpm",
        "outputId": "4afa511d-c7de-40a5-ecf4-b41bfc9f8457"
      },
      "id": "pUhM_z4sPkpm",
      "execution_count": 90,
      "outputs": [
        {
          "output_type": "execute_result",
          "data": {
            "text/plain": [
              "'dt_day 날씨 알려줘'"
            ],
            "application/vnd.google.colaboratory.intrinsic+json": {
              "type": "string"
            }
          },
          "metadata": {},
          "execution_count": 90
        }
      ]
    },
    {
      "cell_type": "markdown",
      "source": [
        "# 4. 패턴 검색"
      ],
      "metadata": {
        "id": "aaruIrgSVmIj"
      },
      "id": "aaruIrgSVmIj"
    },
    {
      "cell_type": "markdown",
      "source": [
        "##### <font color=blue> **[문제 3] 입력되는 발화에 일치되는 패턴을 있는지 검색하여 결과를 출력하세요.** </font>"
      ],
      "metadata": {
        "id": "pKhRNXgIX-uk"
      },
      "id": "pKhRNXgIX-uk"
    },
    {
      "cell_type": "code",
      "execution_count": 91,
      "id": "d0639fee",
      "metadata": {
        "id": "d0639fee",
        "colab": {
          "base_uri": "https://localhost:8080/"
        },
        "outputId": "0fe454fd-393d-4059-9d94-bc69eacce5de"
      },
      "outputs": [
        {
          "output_type": "stream",
          "name": "stdout",
          "text": [
            "test pattern:  오늘 날씨 알려줘\n",
            "pos:  [('오늘', 'NNG'), ('날씨', 'NNP'), ('알리', 'VV'), ('어', 'EC'), ('주', 'VX'), ('어', 'EC')]\n",
            "matched pattern:  dt_day 날씨 알리\n",
            "detected action:  search_weather\n"
          ]
        }
      ],
      "source": [
        "# 읽어 들일 파일명 : action_pattern_komoran.csv, action_ne.csv\n",
        "# 함수명 : detect_pattern()\n",
        "\n",
        "# action_ne.csv 파일에 선언된 action을 모두 점검\n",
        "# 해당 action 에서 허용하는 NE인지 확인 후 개체명 치환 (action_ne.csv)\n",
        "# 일치하는 패턴 발견 시 액션 반환, 발견하지 못하면 None 반환\n",
        "\n",
        "action_ne = pd.read_csv('action_ne.csv', encoding='utf-8')\n",
        "ne_value = pd.read_csv('ne_value.csv', encoding='utf-8')\n",
        "\n",
        "patterns = pd.read_csv('action_pattern_komoran.csv', encoding='utf-8')\n",
        "pattern_action = pd.Series(patterns.action.values, index=patterns.pattern).to_dict()\n",
        "\n",
        "def detect_pattern(text):\n",
        "  result_dict = {'pos':'', 'matched pattern':'None', 'detected action':'None'}\n",
        "  pos = komoran.pos(text)\n",
        "  pos_text = create_pos_pattern(text)\n",
        "  result_dict['pos'] = pos\n",
        "\n",
        "  for actions in action_ne.itertuples():\n",
        "    \n",
        "    # 해당 action 에서 허용하는 NE인지 확인 후 개체명 치환\n",
        "    for word in pos:\n",
        "      if(word[1] in ['NNB','NNG','NNP','NP']): # TODO : [문제 2]번 결과\n",
        "        #print(word[0])\n",
        "        for row in ne_value.itertuples():\n",
        "          if(word[0] == row.value and not pd.isna(actions.ne) and row.ne == actions.ne):\n",
        "            pos_text = pos_text.replace(row.value, row.ne)\n",
        "\n",
        "    # 일치하는 패턴이 있는지 확인\n",
        "    for pattern, action in pattern_action.items():\n",
        "      # TODO : 개채명이 치환된 패턴과 action_pattern_komoran 파일 내 패턴을 비교하여 같은 경우, 해당 패턴과 action을 result_dict 결과에 저장\n",
        "      if pos_text == pattern:\n",
        "        result_dict['matched pattern'] = pattern\n",
        "        result_dict['detected action'] = action\n",
        "\n",
        "  return result_dict\n",
        "\n",
        "test_pattern = '오늘 날씨 알려줘'\n",
        "result = detect_pattern(test_pattern)\n",
        "\n",
        "print('test pattern: ', test_pattern)\n",
        "print('pos: ', result['pos'])\n",
        "print('matched pattern: ', result['matched pattern'])\n",
        "print('detected action: ', result['detected action'])\n",
        "\n",
        "\n",
        "# 기대 결과\n",
        "# test pattern:  오늘 날씨 알려줘\n",
        "# pos:  [('오늘', 'NNG'), ('날씨', 'NNP'), ('알리', 'VV'), ('어', 'EC'), ('주', 'VX'), ('어', 'EC')]\n",
        "# matched pattern:  dt_day 날씨 알리\n",
        "# detected action:  search_weather"
      ]
    },
    {
      "cell_type": "markdown",
      "source": [
        "# 5. 새로운 액션 패턴 추가"
      ],
      "metadata": {
        "id": "FAl9WlOvRS73"
      },
      "id": "FAl9WlOvRS73"
    },
    {
      "cell_type": "markdown",
      "source": [
        "##### <font color=blue> **[문제 4] '기생충 감독 누구야' 발화 인식하기 위한 액션, 개체명, 패턴을 추가하세요.** </font>"
      ],
      "metadata": {
        "id": "2w0MnW6oSERe"
      },
      "id": "2w0MnW6oSERe"
    },
    {
      "cell_type": "code",
      "source": [
        "# 액션 : 'search_director'\n",
        "# 발화 : '기생충 감독 누구야'\n",
        "\n",
        "# TODO : 파일 수정(내용 추가) - ne_value.csv. action_ne.csv, action_pattern.csv\n",
        "# 파일 수정 후 2[문제1]~4번 과정 수행한 뒤 아래 의도분석 결과 확인\n",
        "\n",
        "test_pattern = '기생충 감독 누구야'\n",
        "result = detect_pattern(test_pattern)\n",
        "\n",
        "print('test pattern: ', test_pattern)\n",
        "print('pos: ', result['pos'])\n",
        "print('matched pattern: ', result['matched pattern'])\n",
        "print('detected action: ', result['detected action'])\n",
        "\n",
        "\n",
        "# 기대 결과\n",
        "# test pattern:  기생충 감독 누구야\n",
        "# pos:  [('기생충', 'NNG'), ('감독', 'NNG'), ('누구', 'NP'), ('야', 'JX')]\n",
        "# matched pattern:  contents_title 감독 누구 야\n",
        "# detected action:  search_director"
      ],
      "metadata": {
        "id": "nMp65o-sRmk_",
        "colab": {
          "base_uri": "https://localhost:8080/"
        },
        "outputId": "98286f7a-bdde-47b0-e011-4449884afe94"
      },
      "id": "nMp65o-sRmk_",
      "execution_count": 92,
      "outputs": [
        {
          "output_type": "stream",
          "name": "stdout",
          "text": [
            "test pattern:  기생충 감독 누구야\n",
            "pos:  [('기생충', 'NNG'), ('감독', 'NNG'), ('누구', 'NP'), ('야', 'JX')]\n",
            "matched pattern:  None\n",
            "detected action:  None\n"
          ]
        }
      ]
    },
    {
      "cell_type": "code",
      "source": [
        "# 파일 수정(csv 내용 추가) 방법 참고\n",
        "\n",
        "import csv\n",
        "f = open('action_pattern.csv', 'a', encoding='utf-8')\n",
        "wr = csv.writer(f)\n",
        "wr.writerow(['search_director', 'contents_title 감독 누구야'])\n",
        "f.close()"
      ],
      "metadata": {
        "id": "3ZjmU29SxaSU"
      },
      "id": "3ZjmU29SxaSU",
      "execution_count": 69,
      "outputs": []
    },
    {
      "cell_type": "code",
      "source": [],
      "metadata": {
        "id": "c4sGqrlNxwCn"
      },
      "id": "c4sGqrlNxwCn",
      "execution_count": null,
      "outputs": []
    }
  ],
  "metadata": {
    "kernelspec": {
      "display_name": "Python 3 (ipykernel)",
      "language": "python",
      "name": "python3"
    },
    "language_info": {
      "codemirror_mode": {
        "name": "ipython",
        "version": 3
      },
      "file_extension": ".py",
      "mimetype": "text/x-python",
      "name": "python",
      "nbconvert_exporter": "python",
      "pygments_lexer": "ipython3",
      "version": "3.7.0"
    },
    "colab": {
      "provenance": []
    }
  },
  "nbformat": 4,
  "nbformat_minor": 5
}